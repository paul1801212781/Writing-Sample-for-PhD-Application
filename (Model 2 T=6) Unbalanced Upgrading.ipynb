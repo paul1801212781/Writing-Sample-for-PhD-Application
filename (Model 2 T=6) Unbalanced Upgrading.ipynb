{
 "cells": [
  {
   "cell_type": "code",
   "execution_count": 1,
   "metadata": {},
   "outputs": [],
   "source": [
    "import numpy as np\n",
    "import pandas as pd\n",
    "import matplotlib.pyplot as plt\n",
    "import time"
   ]
  },
  {
   "cell_type": "code",
   "execution_count": 2,
   "metadata": {},
   "outputs": [],
   "source": [
    "# calibration: unit for money is thousand per year, 2018 Chinese data is collected, suppose wage dist is log normal and independent\n",
    "interest_rate=0.0435  #the 1-year interest rate in 2018 is 4.35%\n",
    "beta=1/(1+interest_rate)\n",
    "c=int(10.731)  # rural disposable income is 10731 in 2018,assuming total income is 10731"
   ]
  },
  {
   "cell_type": "code",
   "execution_count": 3,
   "metadata": {},
   "outputs": [
    {
     "name": "stdout",
     "output_type": "stream",
     "text": [
      "the sum of pdf is 1.00\n"
     ]
    }
   ],
   "source": [
    "# simulate wage dist for old industry\n",
    "urban_disposable_income_w=int(67.990)  #in 2018, in BJ, urban disposable income is 67990\n",
    "w_min,w_max=int(25.440),200  #in 2018, minimun wage in BJ was 2120 per month so w_min is 254.4 (21.2*12) but minimun wage is not disposable income\n",
    "w_num=w_max-w_min+1  \n",
    "w_vec=np.linspace(w_min,w_max,w_num)\n",
    "\n",
    "#obtain the empirical log normal distribution\n",
    "dist_mean_w,dist_num=np.round(np.log(urban_disposable_income_w),1),10000000\n",
    "dist_std_w=np.round((dist_mean_w-np.log(w_min))/3,1) # suppose the lower bound is w_min, based on 3 sigma rule, need further investigation\n",
    "dist_w=np.random.lognormal(dist_mean_w,dist_std_w,dist_num)\n",
    "\n",
    "#obtain the pdf of old industry\n",
    "w_pdf=np.zeros(w_num)\n",
    "w_pdf[0]=np.sum(w_vec[0]>=dist_w)  #lognormal 是正无穷的，然而wage有下限，因此把下限的pdf设为小于下限的概率之和\n",
    "for ii in range(1,w_num-1):\n",
    "    w_pdf[ii]=np.sum(np.logical_and(w_vec[ii-1]<dist_w,dist_w<=w_vec[ii]))\n",
    "w_pdf[-1]=np.sum(w_vec[-2]<dist_w)  #lognormal 是正无穷的，然而wage有上限，因此把上限的pdf设为 大于上限的概率之和\n",
    "w_pdf=w_pdf/dist_num\n",
    "\n",
    "print('the sum of pdf is %.2f'%np.sum(w_pdf))  #to check whether pdf sum up to one"
   ]
  },
  {
   "cell_type": "code",
   "execution_count": 4,
   "metadata": {},
   "outputs": [
    {
     "name": "stdout",
     "output_type": "stream",
     "text": [
      "the sum of pdf is 1.00\n"
     ]
    }
   ],
   "source": [
    "# simulate wage dist for new industry\n",
    "factor=1.5\n",
    "urban_disposable_income_z=int(urban_disposable_income_w*factor)\n",
    "z_min,z_max=int(w_min*factor),300\n",
    "z_num=z_max-z_min+1  \n",
    "z_vec=np.linspace(z_min,z_max,z_num)\n",
    "\n",
    "#obtain the empirical log normal distribution\n",
    "dist_mean_z,dist_num=np.round(np.log(urban_disposable_income_z),1),10000000\n",
    "dist_std_z=np.round((dist_mean_z-np.log(z_min))/3,1) # suppose the lower bound is z_min, based on 3 sigma rule, need further investigation\n",
    "dist_z=np.random.lognormal(dist_mean_z,dist_std_z,dist_num)\n",
    "\n",
    "#obtain the pdf of new industry\n",
    "z_pdf=np.zeros(z_num)\n",
    "z_pdf[0]=np.sum(z_vec[0]>=dist_z)  #lognormal 是正无穷的，然而wage有下限，因此把下限的pdf设为小于下限的概率之和\n",
    "for ii in range(1,z_num-1):\n",
    "    z_pdf[ii]=np.sum(np.logical_and(z_vec[ii-1]<dist_z,dist_z<=z_vec[ii]))\n",
    "z_pdf[-1]=np.sum(z_vec[-2]<dist_z)  #lognormal 是正无穷的，然而wage有上限，因此把上限的pdf设为 大于上限的概率之和\n",
    "z_pdf=z_pdf/dist_num\n",
    "\n",
    "print('the sum of pdf is %.2f'%np.sum(z_pdf))  #to check whether pdf sum up to one"
   ]
  },
  {
   "cell_type": "code",
   "execution_count": 5,
   "metadata": {},
   "outputs": [
    {
     "data": {
      "image/png": "[encoded data removed]",
      "text/plain": [
       "<Figure size 432x288 with 1 Axes>"
      ]
     },
     "metadata": {
      "needs_background": "light"
     },
     "output_type": "display_data"
    },
    {
     "name": "stdout",
     "output_type": "stream",
     "text": [
      "The average of w dist is 69755. The average of z dist is 104066\n"
     ]
    }
   ],
   "source": [
    "# check the dist\n",
    "plt.plot(w_vec,w_pdf)\n",
    "plt.plot(z_vec,z_pdf)\n",
    "plt.show()\n",
    "\n",
    "print('The average of w dist is %d. The average of z dist is %d'%(np.mean(dist_w)*1000,np.mean(dist_z)*1000))\n",
    "joint_pdf=((z_pdf.reshape(len(z_pdf),1)*100)@(w_pdf.reshape(1,len(w_pdf))*100))/10000  #multiply by 100 for computational sake "
   ]
  },
  {
   "cell_type": "code",
   "execution_count": 6,
   "metadata": {},
   "outputs": [],
   "source": [
    "T=6\n",
    "fee=30\n",
    "tuition=(fee+urban_disposable_income_w)*T*(1-beta)"
   ]
  },
  {
   "cell_type": "code",
   "execution_count": 22,
   "metadata": {},
   "outputs": [
    {
     "name": "stdout",
     "output_type": "stream",
     "text": [
      "0 th time begins, the diff is 1000.00\n",
      "10 th time begins, the diff is 187.96\n",
      "20 th time begins, the diff is 122.78\n",
      "30 th time begins, the diff is 80.21\n",
      "40 th time begins, the diff is 52.40\n",
      "50 th time begins, the diff is 34.23\n",
      "60 th time begins, the diff is 22.36\n",
      "70 th time begins, the diff is 14.61\n",
      "80 th time begins, the diff is 9.54\n",
      "90 th time begins, the diff is 6.23\n",
      "100 th time begins, the diff is 4.07\n",
      "110 th time begins, the diff is 2.66\n",
      "120 th time begins, the diff is 1.74\n",
      "130 th time begins, the diff is 1.13\n",
      "140 th time begins, the diff is 0.74\n",
      "150 th time begins, the diff is 0.48\n",
      "160 th time begins, the diff is 0.32\n",
      "170 th time begins, the diff is 0.21\n",
      "180 th time begins, the diff is 0.14\n",
      "The running time is 93.27 seconds\n"
     ]
    }
   ],
   "source": [
    "time_start=time.time()\n",
    "ctr=0\n",
    "tol=0.1\n",
    "\n",
    "v_new=np.zeros((joint_pdf.shape[0],joint_pdf.shape[1]))\n",
    "v_old=np.ones((joint_pdf.shape[0],joint_pdf.shape[1]))*1000\n",
    "\n",
    "while np.max(np.abs(v_new-v_old))>tol:   \n",
    "    if ctr%10==0:\n",
    "        print('%d th time begins, the diff is %.2f'%(ctr,np.max(np.abs(v_new-v_old))))\n",
    "    \n",
    "    v_old=np.copy(v_new)\n",
    "    v_expected=(v_old*joint_pdf).sum()  # unconditional expectation\n",
    "    \n",
    "    for ii in range(joint_pdf.shape[0]):  #ii is the index for z  \n",
    "        for jj in range(joint_pdf.shape[1]):  #jj is the index for w\n",
    "            #v_new[ii,jj]=max(z_vec[ii]*beta**T/(1-beta)-tuition,w_vec[jj]/(1-beta),c+beta*v_expected)\n",
    "            v_new[ii,jj]=max(z_vec[ii]+beta*((v_old[ii,:]*w_pdf).sum())-tuition,\n",
    "                             w_vec[jj]+beta*((v_old[:,jj]*z_pdf).sum()),c+beta*v_expected)\n",
    "    ctr+=1\n",
    "            \n",
    "time_end=time.time()\n",
    "time_during=time_end-time_start\n",
    "\n",
    "print('The running time is %.2f seconds'%time_during)"
   ]
  },
  {
   "cell_type": "code",
   "execution_count": 23,
   "metadata": {},
   "outputs": [],
   "source": [
    "decision=np.zeros((joint_pdf.shape[0],joint_pdf.shape[1]))\n",
    "for ii in range(joint_pdf.shape[0]):  #ii is the index for z\n",
    "    for jj in range(joint_pdf.shape[1]):  #jj is the index for w\n",
    "        decision[ii,jj]=np.argmax([(z_vec[ii]+beta*((v_old[ii,:]*w_pdf).sum()))-tuition,\n",
    "                                   w_vec[jj]+beta*((v_old[:,jj]*z_pdf).sum()),c+beta*v_expected])\n",
    "\n",
    "decision=pd.DataFrame(decision)\n",
    "decision.columns=w_vec.astype(int)\n",
    "decision.index=z_vec.astype(int)\n",
    "\n",
    "value=pd.DataFrame(v_new)\n",
    "value.columns=w_vec.astype(int)\n",
    "value.index=z_vec.astype(int)"
   ]
  },
  {
   "cell_type": "code",
   "execution_count": 8,
   "metadata": {},
   "outputs": [],
   "source": [
    "# convert decision to income\n",
    "income=np.zeros((decision.shape))\n",
    "decision_value=np.copy(decision)\n",
    "for ii in range(income.shape[0]):\n",
    "    for jj in range(income.shape[1]):\n",
    "        if decision_value[ii,jj]==2:\n",
    "            income[ii,jj]=c\n",
    "        elif decision_value[ii,jj]==1:\n",
    "            income[ii,jj]=decision.columns[jj]\n",
    "        else:\n",
    "            income[ii,jj]=decision.index[ii]"
   ]
  },
  {
   "cell_type": "code",
   "execution_count": 9,
   "metadata": {},
   "outputs": [
    {
     "name": "stdout",
     "output_type": "stream",
     "text": [
      "The expected income is 93744.25\n"
     ]
    }
   ],
   "source": [
    "# compute the expected income\n",
    "expected_income=(income*joint_pdf).sum()*1000\n",
    "print('The expected income is %.2f'%expected_income)"
   ]
  },
  {
   "cell_type": "code",
   "execution_count": 10,
   "metadata": {},
   "outputs": [
    {
     "name": "stdout",
     "output_type": "stream",
     "text": [
      "The probability of staying out is 9.90 %\n",
      "The probability of old industry is 52.85 %\n",
      "The probability of new industry is 37.25 %\n"
     ]
    }
   ],
   "source": [
    "# compute the prob of each state\n",
    "out_index=decision==2\n",
    "out_prob=joint_pdf[out_index].sum()\n",
    "print('The probability of staying out is %.2f '%(out_prob*100)+'%')\n",
    "\n",
    "old_ind_index=decision==1\n",
    "old_ind_prob=joint_pdf[old_ind_index].sum()\n",
    "print('The probability of old industry is %.2f '%(old_ind_prob*100)+'%')\n",
    "\n",
    "new_ind_index=decision==0\n",
    "new_ind_prob=joint_pdf[new_ind_index].sum()\n",
    "print('The probability of new industry is %.2f '%(new_ind_prob*100)+'%')"
   ]
  },
  {
   "cell_type": "code",
   "execution_count": 11,
   "metadata": {},
   "outputs": [
    {
     "data": {
      "image/png": "[encoded data removed]",
      "text/plain": [
       "<Figure size 432x288 with 1 Axes>"
      ]
     },
     "metadata": {
      "needs_background": "light"
     },
     "output_type": "display_data"
    },
    {
     "name": "stdout",
     "output_type": "stream",
     "text": [
      "The Gini coefficient for income is 0.26203\n"
     ]
    }
   ],
   "source": [
    "# compute the Gini Coeff. for income\n",
    "# step 1: compute the income and weight(sum up to 1)\n",
    "income_range=pd.Series(income.reshape(1,income.shape[0]*income.shape[1])[0]).unique()\n",
    "weight=np.array([joint_pdf[income==ii].sum() for ii in income_range])\n",
    "income_range=np.append([0],income_range)\n",
    "weight=np.append([0],weight)\n",
    "# step 2: sort by income, ascending\n",
    "# step 3: compute the accumulative weight sum \n",
    "weight_cumsum=weight.cumsum()\n",
    "# step 4: compute the accumulative income sum \n",
    "income_sum_array=income_range*weight\n",
    "income_cumsum=income_sum_array.cumsum()\n",
    "income_cumsum=income_cumsum/sum(income_sum_array)\n",
    "# step 5: calculate the Gini coefficients\n",
    "weight_diff=weight_cumsum[1:]-weight_cumsum[0:-1]\n",
    "gini_diff=weight_cumsum-income_cumsum\n",
    "Gini_income=sum(gini_diff[1:]*weight_diff)  # gini_coeff will be overestimated if gini_diff[1:]\n",
    "\n",
    "fig, ax = plt.subplots(1, 1,figsize=(6, 4))\n",
    "ax.plot(weight_cumsum,weight_cumsum,'k-')\n",
    "ax.plot(weight_cumsum,income_cumsum,'k--')\n",
    "ax.set_title('The Gini Coeff. of Income in T=6 Scenario')\n",
    "\n",
    "ax.spines['top'].set_visible(False)\n",
    "ax.spines['right'].set_visible(False)\n",
    "ax.spines['bottom'].set_visible(True)\n",
    "ax.spines['left'].set_visible(True)\n",
    "\n",
    "plt.show()\n",
    "#fig.savefig('The Gini Coeff. of Income in T=6 Scenario.pdf')\n",
    "\n",
    "print('The Gini coefficient for income is %.5f'%(2*Gini_income))"
   ]
  },
  {
   "cell_type": "code",
   "execution_count": 14,
   "metadata": {},
   "outputs": [
    {
     "data": {
      "image/png": "[encoded data removed]",
      "text/plain": [
       "<Figure size 432x576 with 1 Axes>"
      ]
     },
     "metadata": {
      "needs_background": "light"
     },
     "output_type": "display_data"
    }
   ],
   "source": [
    "# draw the decision graph\n",
    "#https://blog.csdn.net/weixin_41743584/article/details/99855902\n",
    "\n",
    "fig1 = plt.figure(figsize=(6, 8))\n",
    "ax = plt.axes()\n",
    "\n",
    "plt.xlim(25,220)\n",
    "plt.ylim(37,330)\n",
    "\n",
    "#draw the range\n",
    "plt.hlines(300, 0, 200, colors='k', linestyle=\"-\",linewidth=0.8)\n",
    "plt.vlines(200, 0, 300, colors='k', linestyle=\"-\",linewidth=0.8)\n",
    "\n",
    "# draw the reservation area\n",
    "reservation_width=24+sum(decision.iloc[0,:]>1)\n",
    "reservation_length=36+sum(decision.iloc[:,0]>0)\n",
    "plt.hlines(reservation_length, 0,reservation_width, colors='k', linestyle=\"-\",linewidth=0.8)\n",
    "plt.vlines(reservation_width, 0, reservation_length, colors='k', linestyle=\"-\",linewidth=0.8)\n",
    "\n",
    "#draw the old-new boundary\n",
    "for ii in range(decision.shape[0]):\n",
    "    for jj in range(decision.shape[1]-1):\n",
    "        if decision.iloc[ii,jj]==0 and decision.iloc[ii,jj+1]==1:\n",
    "            plt.vlines(jj+25, ii+37,ii+38, colors='k', linestyle=\"-\",linewidth=0.8)\n",
    "\n",
    "for jj in range(decision.shape[1]):\n",
    "    for ii in range(decision.shape[0]-1):\n",
    "        if decision.iloc[ii,jj]==1 and decision.iloc[ii+1,jj]==0:\n",
    "            plt.hlines(ii+38, jj+24,jj+25, colors='k', linestyle=\"-\",linewidth=0.8)\n",
    "\n",
    "#label the number and decision\n",
    "plt.text(10, reservation_length-3, str(reservation_length),fontsize=12)\n",
    "plt.text(9, 297, \"300\",fontsize=12)\n",
    "plt.text(reservation_width-5, 24, str(reservation_width),fontsize=12)\n",
    "plt.text(194, 25, \"200\",fontsize=12)\n",
    "plt.text(34,71,'O',fontsize=20)\n",
    "plt.text(34.5,59,'U',fontsize=20)\n",
    "plt.text(35.6,47,'T',fontsize=20)\n",
    "plt.text(135,100,'Old',fontsize=25)\n",
    "plt.text(70,240,'New',fontsize=25)\n",
    "\n",
    "\n",
    "#set axis notation\n",
    "plt.xticks(np.linspace(25,250,1),fontsize=12)\n",
    "plt.yticks(np.linspace(37,350,1),fontsize=12)\n",
    "\n",
    "plt.xlabel('Old Industry Wage',fontsize=15)\n",
    "plt.ylabel('New Industry Wage',fontsize=15)\n",
    "plt.title('(D) T=6',fontsize=20)\n",
    "\n",
    "\n",
    "ax.spines['top'].set_visible(False)\n",
    "ax.spines['right'].set_visible(False)\n",
    "ax.spines['bottom'].set_visible(True)\n",
    "ax.spines['left'].set_visible(True)\n",
    "\n",
    "plt.show()\n",
    "fig1.savefig('Labor Participation Choice in T=6 Scenario.pdf')"
   ]
  },
  {
   "cell_type": "code",
   "execution_count": null,
   "metadata": {},
   "outputs": [],
   "source": []
  }
 ],
 "metadata": {
  "kernelspec": {
   "display_name": "Python 3",
   "language": "python",
   "name": "python3"
  },
  "language_info": {
   "codemirror_mode": {
    "name": "ipython",
    "version": 3
   },
   "file_extension": ".py",
   "mimetype": "text/x-python",
   "name": "python",
   "nbconvert_exporter": "python",
   "pygments_lexer": "ipython3",
   "version": "3.7.3"
  }
 },
 "nbformat": 4,
 "nbformat_minor": 2
}
