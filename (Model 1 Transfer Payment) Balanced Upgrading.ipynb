{
 "cells": [
  {
   "cell_type": "code",
   "execution_count": 1,
   "metadata": {},
   "outputs": [],
   "source": [
    "import numpy as np\n",
    "import matplotlib.pyplot as plt\n",
    "import time"
   ]
  },
  {
   "cell_type": "code",
   "execution_count": 2,
   "metadata": {},
   "outputs": [
    {
     "name": "stdout",
     "output_type": "stream",
     "text": [
      "695.3335714383279\n"
     ]
    },
    {
     "data": {
      "image/png": "[encoded data removed]",
      "text/plain": [
       "<Figure size 432x288 with 1 Axes>"
      ]
     },
     "metadata": {
      "needs_background": "light"
     },
     "output_type": "display_data"
    }
   ],
   "source": [
    "# calibration: unit for money is hundred per year, 2018 Chinese data is collected, suppose wage dist is log normal\n",
    "\n",
    "interest_rate=0.0435  #the 1-year interest rate in 2018 is 4.35%\n",
    "beta=1/(1+interest_rate)\n",
    "c=int(107.31)  # rural disposable income is 10731 in 2018,assuming total income is 10731\n",
    "urban_disposable_income=int(679.90)  #in 2018, in BJ, urban disposable income is 67990\n",
    "w_min,w_max=int(254.40),1500  #in 2018, minimun wage in BJ was 2120 per month so w_min is 254.4 (21.2*12) but minimun wage is not disposable income\n",
    "w_num=w_max-w_min+1  \n",
    "\n",
    "tol=10e-4\n",
    "w_vec=np.linspace(w_min,w_max,w_num)\n",
    "ctr=0\n",
    "\n",
    "#obtain the empirical log normal distribution\n",
    "dist_mean,dist_num=np.round(np.log(urban_disposable_income),1),1000000\n",
    "dist_std=np.round((dist_mean-np.log(w_min))/3,1) # suppose the lower bound is w_min, based on 3 sigma rule, need further investigation\n",
    "\n",
    "#obtain the empirical log normal distribution\n",
    "dist=np.random.lognormal(dist_mean,dist_std,dist_num)\n",
    "\n",
    "print(np.mean(dist))\n",
    "\n",
    "plt.hist(dist,bins=100)\n",
    "plt.show()"
   ]
  },
  {
   "cell_type": "code",
   "execution_count": 3,
   "metadata": {},
   "outputs": [
    {
     "name": "stdout",
     "output_type": "stream",
     "text": [
      "the sum of pdf is 1.00\n"
     ]
    },
    {
     "data": {
      "image/png": "[encoded data removed]",
      "text/plain": [
       "<Figure size 432x288 with 1 Axes>"
      ]
     },
     "metadata": {
      "needs_background": "light"
     },
     "output_type": "display_data"
    }
   ],
   "source": [
    "w_pdf=np.zeros(w_num)\n",
    "\n",
    "w_pdf[0]=np.sum(w_vec[0]>=dist)  #lognormal 是正无穷的，然而wage有下限，因此把下限的pdf设为小于下限的概率之和\n",
    "for ii in range(1,w_num-1):\n",
    "    w_pdf[ii]=np.sum(np.logical_and(w_vec[ii-1]<dist,dist<=w_vec[ii]))\n",
    "    \n",
    "w_pdf[-1]=np.sum(w_vec[-2]<dist)  #lognormal 是正无穷的，然而wage有上限，因此把上限的pdf设为 大于上限的概率之和\n",
    "\n",
    "w_pdf=w_pdf/dist_num\n",
    "print('the sum of pdf is %.2f'%np.sum(w_pdf))  #to check whether pdf sum up to one\n",
    "\n",
    "w_cdf=[sum(w_pdf[:ii]) for ii in range(w_num)]\n",
    "\n",
    "#plt.plot(w_vec,w_pdf,label='pdf')\n",
    "plt.plot(w_vec,w_cdf,label='cdf')\n",
    "plt.title('CDF of lognormal distribution with mean %.2f and variance %.1f'%(dist_mean,dist_std))\n",
    "plt.legend()\n",
    "plt.show()"
   ]
  },
  {
   "cell_type": "code",
   "execution_count": 4,
   "metadata": {},
   "outputs": [],
   "source": [
    "def job_search(T=0,fee=300,subsidy=0,tax=0):\n",
    "    tuition=fee*T  #assuming tuition per year is 30 thousand\n",
    "\n",
    "    v_new=np.zeros(w_num)\n",
    "    v_old=np.ones(w_num)\n",
    "\n",
    "    while np.max(np.abs(v_new-v_old))>tol:\n",
    "        v_old=np.copy(v_new)\n",
    "        v_expected=np.sum(v_old*w_pdf)\n",
    "        for w_i in range(w_num):\n",
    "            v_new[w_i]=max(w_vec[w_i]*beta**T/(1-beta)-tuition+subsidy,c+beta*v_expected-tax)\n",
    "\n",
    "    index=sum(v_new<=v_new[0])\n",
    "    accept_rate=sum(dist>=w_vec[index])/dist_num\n",
    "    \n",
    "    fiscal_balance=(1-accept_rate)*100*tax-accept_rate*100*subsidy  # 100 is for computational sake\n",
    "    \n",
    "    return accept_rate,fiscal_balance"
   ]
  },
  {
   "cell_type": "code",
   "execution_count": 5,
   "metadata": {},
   "outputs": [
    {
     "data": {
      "text/plain": [
       "(0.19773, 0.0)"
      ]
     },
     "execution_count": 5,
     "metadata": {},
     "output_type": "execute_result"
    }
   ],
   "source": [
    "job_search(T=0)"
   ]
  },
  {
   "cell_type": "code",
   "execution_count": 6,
   "metadata": {},
   "outputs": [
    {
     "data": {
      "text/plain": [
       "(0.19773, -8.90099999999984)"
      ]
     },
     "execution_count": 6,
     "metadata": {},
     "output_type": "execute_result"
    }
   ],
   "source": [
    "job_search(T=2,subsidy=110,tax=27)"
   ]
  },
  {
   "cell_type": "code",
   "execution_count": 10,
   "metadata": {},
   "outputs": [
    {
     "data": {
      "text/plain": [
       "(0.19773, 1.6484000000000378)"
      ]
     },
     "execution_count": 10,
     "metadata": {},
     "output_type": "execute_result"
    }
   ],
   "source": [
    "job_search(T=4,subsidy=232,tax=57.2)"
   ]
  },
  {
   "cell_type": "code",
   "execution_count": 16,
   "metadata": {},
   "outputs": [
    {
     "data": {
      "text/plain": [
       "(0.19773, 0.2026000000005297)"
      ]
     },
     "execution_count": 16,
     "metadata": {},
     "output_type": "execute_result"
    }
   ],
   "source": [
    "job_search(T=6,subsidy=340,tax=83.8)"
   ]
  },
  {
   "cell_type": "code",
   "execution_count": null,
   "metadata": {},
   "outputs": [],
   "source": []
  },
  {
   "cell_type": "code",
   "execution_count": null,
   "metadata": {},
   "outputs": [],
   "source": []
  }
 ],
 "metadata": {
  "kernelspec": {
   "display_name": "Python 3",
   "language": "python",
   "name": "python3"
  },
  "language_info": {
   "codemirror_mode": {
    "name": "ipython",
    "version": 3
   },
   "file_extension": ".py",
   "mimetype": "text/x-python",
   "name": "python",
   "nbconvert_exporter": "python",
   "pygments_lexer": "ipython3",
   "version": "3.7.3"
  }
 },
 "nbformat": 4,
 "nbformat_minor": 2
}
