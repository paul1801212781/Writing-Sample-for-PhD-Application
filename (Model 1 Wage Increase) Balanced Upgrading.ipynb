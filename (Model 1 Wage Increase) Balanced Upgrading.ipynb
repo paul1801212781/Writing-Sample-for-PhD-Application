{
 "cells": [
  {
   "cell_type": "code",
   "execution_count": 1,
   "metadata": {},
   "outputs": [],
   "source": [
    "import numpy as np\n",
    "import matplotlib.pyplot as plt\n",
    "import time"
   ]
  },
  {
   "cell_type": "code",
   "execution_count": 215,
   "metadata": {},
   "outputs": [],
   "source": [
    "def job_search(interest_rate=0.0435,c=107,urban_disposable_income=679,w_min=254,T=0,fee=300,inflator=1):\n",
    "    urban_disposable_income=int(inflator*urban_disposable_income)\n",
    "    w_min=int(inflator*w_min)\n",
    "    beta=1/(1+interest_rate)\n",
    "    w_max=1500  #in 2018, minimun wage in BJ was 2120 per month so w_min is 25.44 (2.12*12) but minimun wage is not disposable income\n",
    "    w_num=w_max-w_min+1  \n",
    "\n",
    "    tol=10e-4\n",
    "    w_vec=np.linspace(w_min,w_max,w_num)\n",
    "\n",
    "    #obtain the empirical log normal distribution\n",
    "    dist_mean,dist_num=np.round(np.log(urban_disposable_income),1),1000000\n",
    "    dist_std=np.round((dist_mean-np.log(w_min))/3,1) # suppose the lower bound is w_min, based on 3 sigma rule, need further investigation\n",
    "\n",
    "    #obtain the empirical log normal distribution\n",
    "    dist=np.random.lognormal(dist_mean,dist_std,dist_num)\n",
    "    \n",
    "    w_pdf=np.zeros(w_num)\n",
    "    w_pdf[0]=np.sum(w_vec[0]>=dist)  #lognormal 是正无穷的，然而wage有下限，因此把下限的pdf设为小于下限的概率之和\n",
    "    for ii in range(1,w_num-1):\n",
    "        w_pdf[ii]=np.sum(np.logical_and(w_vec[ii-1]<dist,dist<=w_vec[ii]))\n",
    "    w_pdf[-1]=np.sum(w_vec[-2]<dist)  #lognormal 是正无穷的，然而wage有上限，因此把上限的pdf设为 大于上限的概率之和\n",
    "    w_pdf=w_pdf/dist_num\n",
    "    \n",
    "    tuition=fee*T  #assuming tuition per year is 30 thousand\n",
    "    v_new=np.zeros(w_num)\n",
    "    v_old=np.ones(w_num)\n",
    "    while np.max(np.abs(v_new-v_old))>tol:\n",
    "        v_old=np.copy(v_new)\n",
    "        v_expected=np.sum(v_old*w_pdf)\n",
    "        for w_i in range(w_num):\n",
    "            v_new[w_i]=max(w_vec[w_i]*beta**T/(1-beta)-tuition,c+beta*v_expected)\n",
    "    index=sum(v_new<=v_new[0])\n",
    "    accept_rate=sum(dist>=w_vec[index])/dist_num\n",
    "    #wage_scheme=np.copy(w_vec)\n",
    "    #wage_scheme[:index]=c\n",
    "    \n",
    "    #return sum(wage_scheme*w_pdf)*100\n",
    "    return accept_rate"
   ]
  },
  {
   "cell_type": "code",
   "execution_count": 220,
   "metadata": {},
   "outputs": [
    {
     "data": {
      "text/plain": [
       "0.198757"
      ]
     },
     "execution_count": 220,
     "metadata": {},
     "output_type": "execute_result"
    }
   ],
   "source": [
    "job_search(T=0)"
   ]
  },
  {
   "cell_type": "code",
   "execution_count": 221,
   "metadata": {},
   "outputs": [
    {
     "data": {
      "text/plain": [
       "0.197174"
      ]
     },
     "execution_count": 221,
     "metadata": {},
     "output_type": "execute_result"
    }
   ],
   "source": [
    "job_search(inflator=1.04,T=2)"
   ]
  },
  {
   "cell_type": "code",
   "execution_count": 222,
   "metadata": {},
   "outputs": [
    {
     "data": {
      "text/plain": [
       "0.200519"
      ]
     },
     "execution_count": 222,
     "metadata": {},
     "output_type": "execute_result"
    }
   ],
   "source": [
    "job_search(inflator=1.14,T=4)"
   ]
  },
  {
   "cell_type": "code",
   "execution_count": 225,
   "metadata": {},
   "outputs": [
    {
     "data": {
      "text/plain": [
       "0.212535"
      ]
     },
     "execution_count": 225,
     "metadata": {},
     "output_type": "execute_result"
    }
   ],
   "source": [
    "job_search(inflator=1.26,T=6)"
   ]
  },
  {
   "cell_type": "code",
   "execution_count": null,
   "metadata": {},
   "outputs": [],
   "source": []
  }
 ],
 "metadata": {
  "kernelspec": {
   "display_name": "Python 3",
   "language": "python",
   "name": "python3"
  },
  "language_info": {
   "codemirror_mode": {
    "name": "ipython",
    "version": 3
   },
   "file_extension": ".py",
   "mimetype": "text/x-python",
   "name": "python",
   "nbconvert_exporter": "python",
   "pygments_lexer": "ipython3",
   "version": "3.7.3"
  }
 },
 "nbformat": 4,
 "nbformat_minor": 2
}
