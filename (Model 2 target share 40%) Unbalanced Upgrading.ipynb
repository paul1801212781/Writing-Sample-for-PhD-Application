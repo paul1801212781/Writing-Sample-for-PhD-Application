{
 "cells": [
  {
   "cell_type": "code",
   "execution_count": 10,
   "metadata": {},
   "outputs": [],
   "source": [
    "import numpy as np\n",
    "import pandas as pd\n",
    "import matplotlib.pyplot as plt\n",
    "import time"
   ]
  },
  {
   "cell_type": "code",
   "execution_count": 11,
   "metadata": {},
   "outputs": [
    {
     "data": {
      "image/png": "[encoded data removed]",
      "text/plain": [
       "<Figure size 432x288 with 1 Axes>"
      ]
     },
     "metadata": {
      "needs_background": "light"
     },
     "output_type": "display_data"
    },
    {
     "name": "stdout",
     "output_type": "stream",
     "text": [
      "The average of w dist is 69761. The average of z dist is 104060\n"
     ]
    }
   ],
   "source": [
    "# calibration: unit for money is thousand per year, 2018 Chinese data is collected, suppose wage dist is log normal and independent\n",
    "interest_rate=0.0435  #the 1-year interest rate in 2018 is 4.35%\n",
    "beta=1/(1+interest_rate)\n",
    "c=int(10.731)  # rural disposable income is 10731 in 2018,assuming total income is 10731\n",
    "\n",
    "# simulate wage dist for old industry\n",
    "urban_disposable_income_w=int(67.990)  #in 2018, in BJ, urban disposable income is 67990\n",
    "w_min,w_max=int(25.440),200  #in 2018, minimun wage in BJ was 2120 per month so w_min is 254.4 (21.2*12) but minimun wage is not disposable income\n",
    "w_num=w_max-w_min+1  \n",
    "w_vec=np.linspace(w_min,w_max,w_num)\n",
    "\n",
    "#obtain the empirical log normal distribution\n",
    "dist_mean_w,dist_num=np.round(np.log(urban_disposable_income_w),1),10000000\n",
    "dist_std_w=np.round((dist_mean_w-np.log(w_min))/3,1) # suppose the lower bound is w_min, based on 3 sigma rule, need further investigation\n",
    "dist_w=np.random.lognormal(dist_mean_w,dist_std_w,dist_num)\n",
    "\n",
    "#obtain the pdf of old industry\n",
    "w_pdf=np.zeros(w_num)\n",
    "w_pdf[0]=np.sum(w_vec[0]>=dist_w)  #lognormal 是正无穷的，然而wage有下限，因此把下限的pdf设为小于下限的概率之和\n",
    "for ii in range(1,w_num-1):\n",
    "    w_pdf[ii]=np.sum(np.logical_and(w_vec[ii-1]<dist_w,dist_w<=w_vec[ii]))\n",
    "w_pdf[-1]=np.sum(w_vec[-2]<dist_w)  #lognormal 是正无穷的，然而wage有上限，因此把上限的pdf设为 大于上限的概率之和\n",
    "w_pdf=w_pdf/dist_num\n",
    "\n",
    "#print('the sum of pdf is %.2f'%np.sum(w_pdf))  #to check whether pdf sum up to one\n",
    "\n",
    "# simulate wage dist for new industry\n",
    "factor=1.5\n",
    "urban_disposable_income_z=int(urban_disposable_income_w*factor)\n",
    "z_min,z_max=int(w_min*factor),300\n",
    "z_num=z_max-z_min+1  \n",
    "z_vec=np.linspace(z_min,z_max,z_num)\n",
    "\n",
    "#obtain the empirical log normal distribution\n",
    "dist_mean_z,dist_num=np.round(np.log(urban_disposable_income_z),1),10000000\n",
    "dist_std_z=np.round((dist_mean_z-np.log(z_min))/3,1) # suppose the lower bound is z_min, based on 3 sigma rule, need further investigation\n",
    "dist_z=np.random.lognormal(dist_mean_z,dist_std_z,dist_num)\n",
    "\n",
    "#obtain the pdf of new industry\n",
    "z_pdf=np.zeros(z_num)\n",
    "z_pdf[0]=np.sum(z_vec[0]>=dist_z)  #lognormal 是正无穷的，然而wage有下限，因此把下限的pdf设为小于下限的概率之和\n",
    "for ii in range(1,z_num-1):\n",
    "    z_pdf[ii]=np.sum(np.logical_and(z_vec[ii-1]<dist_z,dist_z<=z_vec[ii]))\n",
    "z_pdf[-1]=np.sum(z_vec[-2]<dist_z)  #lognormal 是正无穷的，然而wage有上限，因此把上限的pdf设为 大于上限的概率之和\n",
    "z_pdf=z_pdf/dist_num\n",
    "\n",
    "#print('the sum of pdf is %.2f'%np.sum(z_pdf))  #to check whether pdf sum up to one\n",
    "\n",
    "# check the dist\n",
    "plt.plot(w_vec,w_pdf)\n",
    "plt.plot(z_vec,z_pdf)\n",
    "plt.show()\n",
    "\n",
    "print('The average of w dist is %d. The average of z dist is %d'%(np.mean(dist_w)*1000,np.mean(dist_z)*1000))\n",
    "joint_pdf=((z_pdf.reshape(len(z_pdf),1)*100)@(w_pdf.reshape(1,len(w_pdf))*100))/10000  #multiply by 100 for computational sake "
   ]
  },
  {
   "cell_type": "code",
   "execution_count": 3,
   "metadata": {},
   "outputs": [],
   "source": [
    "def job_search(T=4,fee=30,subsidy=10,tax=7,tol=1):\n",
    "    tuition=(fee+urban_disposable_income_w)*T*(1-beta)\n",
    "    time_start=time.time()\n",
    "    ctr=0\n",
    "\n",
    "    v_new=np.zeros((joint_pdf.shape[0],joint_pdf.shape[1]))\n",
    "    v_old=np.ones((joint_pdf.shape[0],joint_pdf.shape[1]))*1000\n",
    "\n",
    "    while np.max(np.abs(v_new-v_old))>tol:   \n",
    "        if ctr%50==0:\n",
    "            print('%d th time for job search update begins, the diff is %.2f'%(ctr,np.max(np.abs(v_new-v_old))))\n",
    "\n",
    "        v_old=np.copy(v_new)\n",
    "        v_expected=(v_old*joint_pdf).sum()  # unconditional expectation\n",
    "\n",
    "        for ii in range(joint_pdf.shape[0]):  #ii is the index for z  \n",
    "            for jj in range(joint_pdf.shape[1]):  #jj is the index for w\n",
    "                v_new[ii,jj]=max(z_vec[ii]+beta*((v_old[ii,:]*w_pdf).sum())-tuition+subsidy,\n",
    "                                 w_vec[jj]+beta*((v_old[:,jj]*z_pdf).sum())-tax,c+beta*v_expected-tax)\n",
    "        ctr+=1\n",
    "\n",
    "    time_end=time.time()\n",
    "    time_during=time_end-time_start\n",
    "\n",
    "    print('The running time for job search is %.2f seconds'%time_during)\n",
    "\n",
    "    decision=np.zeros((joint_pdf.shape[0],joint_pdf.shape[1]))\n",
    "    for ii in range(joint_pdf.shape[0]):  #ii is the index for z\n",
    "        for jj in range(joint_pdf.shape[1]):  #jj is the index for w\n",
    "            decision[ii,jj]=np.argmax([(z_vec[ii]+beta*((v_old[ii,:]*w_pdf).sum()))-tuition+subsidy,\n",
    "                                       w_vec[jj]+beta*((v_old[:,jj]*z_pdf).sum())-tax,c+beta*v_expected-tax])\n",
    "\n",
    "    decision=pd.DataFrame(decision)\n",
    "    decision.columns=w_vec.astype(int)\n",
    "    decision.index=z_vec.astype(int)\n",
    "\n",
    "    value=pd.DataFrame(v_new)\n",
    "    value.columns=w_vec.astype(int)\n",
    "    value.index=z_vec.astype(int)\n",
    "\n",
    "    # compute the prob of each state\n",
    "    out_index=decision==2\n",
    "    out_prob=joint_pdf[out_index].sum()\n",
    "    print('The probability of staying out is %.2f '%(out_prob*100)+'%')\n",
    "\n",
    "    old_ind_index=decision==1\n",
    "    old_ind_prob=joint_pdf[old_ind_index].sum()\n",
    "    print('The probability of old industry is %.2f '%(old_ind_prob*100)+'%')\n",
    "\n",
    "    new_ind_index=decision==0\n",
    "    new_ind_prob=joint_pdf[new_ind_index].sum()\n",
    "    print('The probability of new industry is %.2f '%(new_ind_prob*100)+'%')\n",
    "    \n",
    "    fiscal_balance=(1-new_ind_prob)*100*tax-new_ind_prob*100*subsidy  #the fiscal balance is inflated for computational sake\n",
    "    print('The fiscal balance is %.4f'%fiscal_balance)\n",
    "    \n",
    "    return fiscal_balance,new_ind_prob*100,old_ind_prob*100,out_prob*100,decision,value,tuition"
   ]
  },
  {
   "cell_type": "code",
   "execution_count": 10,
   "metadata": {},
   "outputs": [
    {
     "name": "stdout",
     "output_type": "stream",
     "text": [
      "0 th time for job search update begins, the diff is 1000.00\n",
      "50 th time for job search update begins, the diff is 35.60\n",
      "100 th time for job search update begins, the diff is 4.24\n",
      "The running time for job search is 68.65 seconds\n",
      "The probability of staying out is 6.33 %\n",
      "The probability of old industry is 53.76 %\n",
      "The probability of new industry is 39.91 %\n",
      "The fiscal balance is -6.7590\n"
     ]
    }
   ],
   "source": [
    "# check the job_search function\n",
    "fiscal_balance,new_ind_share,old_ind_share,out_share,decision,value, tuition=job_search(T=4,fee=30,subsidy=3,tax=1.88,tol=1)"
   ]
  },
  {
   "cell_type": "code",
   "execution_count": 8,
   "metadata": {},
   "outputs": [],
   "source": [
    "def bisection_for_tax(left=0,right=5,subsidy=5,tolerance=10): # Left and right are tax.fiscal balance must be - if left=0, it is + if right=10. so bisection is feasible\n",
    "    #tolerance for fiscal balance has already been inflated by 100\n",
    "    time_start=time.time()\n",
    "    ctr=1\n",
    "    middle=(left+right)/2\n",
    "    print('%d th round for bisection(tax) starts, ensuing tax is %.2f'%(ctr,middle))\n",
    "    fiscal_balance,new_ind_share,old_ind_share,out_share,decision,value, tuition=job_search(subsidy=subsidy,tax=middle)\n",
    "    print('%d th round for bisection(tax) finished. The fiscal balance is %.2f. New ind share is %.2f'%(ctr,fiscal_balance,new_ind_share))\n",
    "    print('\\n')\n",
    "    \n",
    "    while np.abs(fiscal_balance)>tolerance:\n",
    "        ctr+=1\n",
    "        print('%d th round for bisection(tax) starts'%ctr)\n",
    "        if fiscal_balance>0:\n",
    "            right=middle\n",
    "        else:\n",
    "            left=middle\n",
    "        middle=(left+right)/2\n",
    "        fiscal_balance,new_ind_share,old_ind_share,out_share,decision,value, tuition=job_search(subsidy=subsidy,tax=middle)\n",
    "        print('%d th round for bisection(tax) finished. The fiscal balance is %.2f. New ind share is %.2f'%(ctr,fiscal_balance,new_ind_share))\n",
    "        print('\\n')\n",
    "        \n",
    "        if ctr>10:\n",
    "            print('The num of rounds for bisection(tax) exceeds 10 times. Break!')\n",
    "            break\n",
    "    \n",
    "    time_end=time.time()\n",
    "    time_during=time_end-time_start\n",
    "    print('The running time for bisection(tax) is %.2f seconds'%time_during)\n",
    "    \n",
    "    return middle,fiscal_balance,new_ind_share,old_ind_share,out_share,decision,value,tuition  # middle here is ensuing tax"
   ]
  },
  {
   "cell_type": "code",
   "execution_count": 9,
   "metadata": {},
   "outputs": [
    {
     "name": "stdout",
     "output_type": "stream",
     "text": [
      "1 th round for bisection(tax) starts\n",
      "0 th time for job search update begins, the diff is 1000.00\n",
      "50 th time for job search update begins, the diff is 35.60\n",
      "100 th time for job search update begins, the diff is 4.24\n",
      "The running time for job search is 70.62 seconds\n",
      "The probability of staying out is 6.33 %\n",
      "The probability of old industry is 53.69 %\n",
      "The probability of new industry is 39.97 %\n",
      "The fiscal balance is 30.1381\n",
      "1 th round for bisection(tax) finished. The fiscal balance is 30.14. New ind share is 39.97\n",
      "\n",
      "\n",
      "2 th round for bisection(tax) starts\n",
      "0 th time for job search update begins, the diff is 1000.00\n",
      "50 th time for job search update begins, the diff is 35.60\n",
      "100 th time for job search update begins, the diff is 4.24\n",
      "The running time for job search is 69.06 seconds\n",
      "The probability of staying out is 6.33 %\n",
      "The probability of old industry is 53.80 %\n",
      "The probability of new industry is 39.86 %\n",
      "The fiscal balance is -44.4108\n",
      "2 th round for bisection(tax) finished. The fiscal balance is -44.41. New ind share is 39.86\n",
      "\n",
      "\n",
      "3 th round for bisection(tax) starts\n",
      "0 th time for job search update begins, the diff is 1000.00\n",
      "50 th time for job search update begins, the diff is 35.60\n",
      "100 th time for job search update begins, the diff is 4.24\n",
      "The running time for job search is 69.58 seconds\n",
      "The probability of staying out is 6.33 %\n",
      "The probability of old industry is 53.76 %\n",
      "The probability of new industry is 39.91 %\n",
      "The fiscal balance is -7.0595\n",
      "3 th round for bisection(tax) finished. The fiscal balance is -7.06. New ind share is 39.91\n",
      "\n",
      "\n",
      "The running time for bisection(tax) is 212.29 seconds\n",
      "The ensuing tax is 1.88. The fiscal balance is -7.06. New ind share is 39.91. old ind share is 53.76. out share is 6.33\n"
     ]
    }
   ],
   "source": [
    "# check for the bisection function\n",
    "middle,fiscal_balance,new_ind_share,old_ind_share,out_share,decision,value,tuition=bisection_for_tax(subsidy=3)\n",
    "print('The ensuing tax is %.2f. The fiscal balance is %.2f. New ind share is %.2f. old ind share is %.2f. out share is %.2f'\n",
    "      %(middle,fiscal_balance,new_ind_share,old_ind_share,out_share))"
   ]
  },
  {
   "cell_type": "code",
   "execution_count": 11,
   "metadata": {},
   "outputs": [],
   "source": [
    "def bisection_for_share(target_share,left=0,right=7,tolerance=0.05): #target_share should be rate*100,left and right are subsidy\n",
    "    time_start=time.time()\n",
    "    ctr=1\n",
    "    middle=(left+right)/2  #middle here is subsidy\n",
    "    print('%d th round for bisection(target share) starts,subsidy is %.2f'%(ctr,middle))\n",
    "    tax,fiscal_balance,new_ind_share,old_ind_share,out_share,decision,value,tuition=bisection_for_tax(subsidy=middle)\n",
    "    print('%d th round for bisection(target share) finished.The subsidy is %.2f.The tax is %.2f. New ind share is %.2f.The fiscal balance is %.2f.'%(ctr,middle,tax,new_ind_share,fiscal_balance))\n",
    "    print('\\n')\n",
    "    \n",
    "    while np.abs(new_ind_share-target_share)>tolerance: # notice that the shares have been inflated by 100 in job_search function\n",
    "        ctr+=1\n",
    "        print('%d th round for bisection(target share) starts'%ctr)\n",
    "        if (new_ind_share-target_share)>0:\n",
    "            right=middle\n",
    "        else:\n",
    "            left=middle\n",
    "        middle=(left+right)/2\n",
    "        print('subsidy is %.2f'%middle)\n",
    "        tax,fiscal_balance,new_ind_share,old_ind_share,out_share,decision,value,tuition=bisection_for_tax(subsidy=middle)\n",
    "        print('%d th round for bisection(target share) finished.The subsidy is %.2f.The tax is %.2f. New ind share is %.2f.The fiscal balance is %.2f.'%(ctr,middle,tax,new_ind_share,fiscal_balance))\n",
    "        print('\\n')\n",
    "        \n",
    "        if ctr>10:\n",
    "            print('The num of rounds for bisection(target share) exceeds 10 times. Break!')\n",
    "            break\n",
    "    \n",
    "    time_end=time.time()\n",
    "    time_during=time_end-time_start\n",
    "    print('The running time for bisection(target share) is %.2f seconds'%time_during)\n",
    "    \n",
    "    return middle,tax,new_ind_share,old_ind_share,out_share,fiscal_balance,decision,value,tuition"
   ]
  },
  {
   "cell_type": "code",
   "execution_count": 12,
   "metadata": {},
   "outputs": [
    {
     "name": "stdout",
     "output_type": "stream",
     "text": [
      "1 th round for bisection(target share) starts,subsidy is 3.50\n",
      "1 th round for bisection(tax) starts\n",
      "0 th time for job search update begins, the diff is 1000.00\n",
      "50 th time for job search update begins, the diff is 35.67\n",
      "100 th time for job search update begins, the diff is 4.24\n",
      "The running time for job search is 66.41 seconds\n",
      "The probability of staying out is 6.33 %\n",
      "The probability of old industry is 53.65 %\n",
      "The probability of new industry is 40.02 %\n",
      "The fiscal balance is 9.8860\n",
      "1 th round for bisection(tax) finished. The fiscal balance is 9.89. New ind share is 40.02\n",
      "\n",
      "\n",
      "The running time for bisection(tax) is 67.34 seconds\n",
      "1 th round for bisection(target share) finished.The subsidy is 3.50.The tax is 2.50. New ind share is 40.02.The fiscal balance is 9.89.\n",
      "\n",
      "\n",
      "The running time for bisection(target share) is 67.34 seconds\n",
      "The subsidy is 3.50.The tax is 2.50. New ind share is 40.02.The fiscal balance is 9.89.\n"
     ]
    }
   ],
   "source": [
    "subsidy,tax,new_ind_share,old_ind_share,out_share,fiscal_balance,decision,value,tuition=bisection_for_share(target_share=40)\n",
    "print('The subsidy is %.2f.The tax is %.2f. New ind share is %.2f.The fiscal balance is %.2f.'%(subsidy,tax,new_ind_share,fiscal_balance))"
   ]
  },
  {
   "cell_type": "code",
   "execution_count": 13,
   "metadata": {},
   "outputs": [
    {
     "name": "stdout",
     "output_type": "stream",
     "text": [
      "0 th time for job search update begins, the diff is 1000.00\n",
      "50 th time for job search update begins, the diff is 35.67\n",
      "100 th time for job search update begins, the diff is 4.24\n",
      "The running time for job search is 71.74 seconds\n",
      "The probability of staying out is 6.33 %\n",
      "The probability of old industry is 53.65 %\n",
      "The probability of new industry is 40.02 %\n",
      "The fiscal balance is 9.8860\n",
      "The fiscal balance is 9.89. New ind share is 40.02. old ind share is 53.65. out share is 6.33\n"
     ]
    }
   ],
   "source": [
    "# double check the result of bisection_for_share\n",
    "fiscal_balance,new_ind_share,old_ind_share,out_share,decision,value, tuition=job_search(T=4,fee=30,subsidy=3.5,tax=2.5,tol=1)\n",
    "print('The fiscal balance is %.2f. New ind share is %.2f. old ind share is %.2f. out share is %.2f'\n",
    "      %(fiscal_balance,new_ind_share,old_ind_share,out_share))"
   ]
  },
  {
   "cell_type": "code",
   "execution_count": 13,
   "metadata": {},
   "outputs": [],
   "source": [
    "# convert decision to income\n",
    "income=np.zeros((decision.shape))\n",
    "decision_value=np.copy(decision)\n",
    "for ii in range(income.shape[0]):\n",
    "    for jj in range(income.shape[1]):\n",
    "        if decision_value[ii,jj]==2:\n",
    "            income[ii,jj]=c\n",
    "        elif decision_value[ii,jj]==1:\n",
    "            income[ii,jj]=decision.columns[jj]\n",
    "        else:\n",
    "            income[ii,jj]=decision.index[ii]"
   ]
  },
  {
   "cell_type": "code",
   "execution_count": 14,
   "metadata": {},
   "outputs": [
    {
     "name": "stdout",
     "output_type": "stream",
     "text": [
      "The expected income is 96390.18\n"
     ]
    }
   ],
   "source": [
    "# compute the expected income\n",
    "expected_income=(income*joint_pdf).sum()*1000\n",
    "print('The expected income is %.2f'%expected_income)"
   ]
  },
  {
   "cell_type": "code",
   "execution_count": 15,
   "metadata": {},
   "outputs": [
    {
     "data": {
      "image/png": "[encoded data removed]",
      "text/plain": [
       "<Figure size 432x288 with 1 Axes>"
      ]
     },
     "metadata": {
      "needs_background": "light"
     },
     "output_type": "display_data"
    },
    {
     "name": "stdout",
     "output_type": "stream",
     "text": [
      "The Gini coefficient for income is 0.23469\n"
     ]
    }
   ],
   "source": [
    "# compute the Gini Coeff. for income\n",
    "# step 1: compute the income and weight(sum up to 1)\n",
    "income_range=pd.Series(income.reshape(1,income.shape[0]*income.shape[1])[0]).unique()\n",
    "weight=np.array([joint_pdf[income==ii].sum() for ii in income_range])\n",
    "income_range=np.append([0],income_range)\n",
    "weight=np.append([0],weight)\n",
    "# step 2: sort by income, ascending\n",
    "# step 3: compute the accumulative weight sum \n",
    "weight_cumsum=weight.cumsum()\n",
    "# step 4: compute the accumulative income sum \n",
    "income_sum_array=income_range*weight\n",
    "income_cumsum=income_sum_array.cumsum()\n",
    "income_cumsum=income_cumsum/sum(income_sum_array)\n",
    "# step 5: calculate the Gini coefficients\n",
    "weight_diff=weight_cumsum[1:]-weight_cumsum[0:-1]\n",
    "gini_diff=weight_cumsum-income_cumsum\n",
    "Gini_income=sum(gini_diff[1:]*weight_diff)  # gini_coeff will be overestimated if gini_diff[1:]\n",
    "\n",
    "fig, ax = plt.subplots(1, 1,figsize=(6, 4))\n",
    "ax.plot(weight_cumsum,weight_cumsum,'k-')\n",
    "ax.plot(weight_cumsum,income_cumsum,'k--')\n",
    "ax.set_title('The Gini Coeff. of Income in Target Share 40% Scenario')\n",
    "\n",
    "ax.spines['top'].set_visible(False)\n",
    "ax.spines['right'].set_visible(False)\n",
    "ax.spines['bottom'].set_visible(True)\n",
    "ax.spines['left'].set_visible(True)\n",
    "\n",
    "plt.show()\n",
    "#fig.savefig('The Gini Coeff. of Income in target share 40% Scenario.pdf')\n",
    "\n",
    "print('The Gini coefficient for income is %.5f'%(2*Gini_income))"
   ]
  },
  {
   "cell_type": "code",
   "execution_count": 20,
   "metadata": {},
   "outputs": [
    {
     "data": {
      "image/png": "[encoded data removed]",
      "text/plain": [
       "<Figure size 432x576 with 1 Axes>"
      ]
     },
     "metadata": {
      "needs_background": "light"
     },
     "output_type": "display_data"
    }
   ],
   "source": [
    "# draw the decision graph\n",
    "#https://blog.csdn.net/weixin_41743584/article/details/99855902\n",
    "\n",
    "fig1 = plt.figure(figsize=(6, 8))\n",
    "ax = plt.axes()\n",
    "\n",
    "plt.xlim(25,220)\n",
    "plt.ylim(37,330)\n",
    "\n",
    "#draw the range\n",
    "plt.hlines(300, 0, 200, colors='k', linestyle=\"-\",linewidth=0.8)\n",
    "plt.vlines(200, 0, 300, colors='k', linestyle=\"-\",linewidth=0.8)\n",
    "\n",
    "# draw the reservation area\n",
    "reservation_width=24+sum(decision.iloc[0,:]>1)\n",
    "reservation_length=36+sum(decision.iloc[:,0]>0)\n",
    "plt.hlines(reservation_length, 0,reservation_width, colors='k', linestyle=\"-\",linewidth=0.8)\n",
    "plt.vlines(reservation_width, 0, reservation_length, colors='k', linestyle=\"-\",linewidth=0.8)\n",
    "\n",
    "#draw the old-new boundary\n",
    "for ii in range(decision.shape[0]):\n",
    "    for jj in range(decision.shape[1]-1):\n",
    "        if decision.iloc[ii,jj]==0 and decision.iloc[ii,jj+1]==1:\n",
    "            plt.vlines(jj+25, ii+37,ii+38, colors='k', linestyle=\"-\",linewidth=0.8)\n",
    "\n",
    "for jj in range(decision.shape[1]):\n",
    "    for ii in range(decision.shape[0]-1):\n",
    "        if decision.iloc[ii,jj]==1 and decision.iloc[ii+1,jj]==0:\n",
    "            plt.hlines(ii+38, jj+24,jj+25, colors='k', linestyle=\"-\",linewidth=0.8)\n",
    "\n",
    "#label the number and decision\n",
    "plt.text(10, reservation_length-3, str(reservation_length),fontsize=12)\n",
    "plt.text(9, 297, \"300\",fontsize=12)\n",
    "plt.text(reservation_width-5, 24, str(reservation_width),fontsize=12)\n",
    "plt.text(194, 25, \"200\",fontsize=12)\n",
    "plt.text(31,68,'O',fontsize=20)\n",
    "plt.text(31.5,56,'U',fontsize=20)\n",
    "plt.text(32.5,44,'T',fontsize=20)\n",
    "plt.text(115,100,'Old',fontsize=25)\n",
    "plt.text(80,240,'New',fontsize=25)\n",
    "\n",
    "\n",
    "#set axis notation\n",
    "plt.xticks(np.linspace(25,250,1),fontsize=12)\n",
    "plt.yticks(np.linspace(37,350,1),fontsize=12)\n",
    "\n",
    "plt.xlabel('Old Industry Wage',fontsize=15)\n",
    "plt.ylabel('New Industry Wage',fontsize=15)\n",
    "plt.title('(A) 40% target share',fontsize=20)\n",
    "\n",
    "\n",
    "ax.spines['top'].set_visible(False)\n",
    "ax.spines['right'].set_visible(False)\n",
    "ax.spines['bottom'].set_visible(True)\n",
    "ax.spines['left'].set_visible(True)\n",
    "\n",
    "plt.show()\n",
    "fig1.savefig('Labor Participation Choice in target share 40% Scenario.pdf')"
   ]
  },
  {
   "cell_type": "code",
   "execution_count": 21,
   "metadata": {},
   "outputs": [
    {
     "data": {
      "image/png": "[encoded data removed]",
      "text/plain": [
       "<Figure size 432x288 with 1 Axes>"
      ]
     },
     "metadata": {
      "needs_background": "light"
     },
     "output_type": "display_data"
    },
    {
     "name": "stdout",
     "output_type": "stream",
     "text": [
      "The Gini coefficient for income_disposable is 0.24866\n"
     ]
    }
   ],
   "source": [
    "# compute the gini coeff. for disposable income\n",
    "# convert decision to disposable income\n",
    "income_disposable=np.zeros((decision.shape))\n",
    "decision_value=np.copy(decision)\n",
    "for ii in range(income_disposable.shape[0]):\n",
    "    for jj in range(income_disposable.shape[1]):\n",
    "        if decision_value[ii,jj]==2:\n",
    "            income_disposable[ii,jj]=c-2.5\n",
    "        elif decision_value[ii,jj]==1:\n",
    "            income_disposable[ii,jj]=decision.columns[jj]-2.5\n",
    "        else:\n",
    "            income_disposable[ii,jj]=decision.index[ii]+3.5\n",
    "            \n",
    "# compute the Gini Coeff. for income_disposable\n",
    "# step 1: compute the income_disposable and weight(sum up to 1)\n",
    "income_disposable_range=pd.Series(income_disposable.reshape(1,income_disposable.shape[0]*income_disposable.shape[1])[0]).unique()\n",
    "weight=np.array([joint_pdf[income_disposable==ii].sum() for ii in income_disposable_range])\n",
    "income_disposable_range=np.append([0],income_disposable_range)\n",
    "weight=np.append([0],weight)\n",
    "# step 2: sort by income_disposable, ascending\n",
    "# step 3: compute the accumulative weight sum \n",
    "weight_cumsum=weight.cumsum()\n",
    "# step 4: compute the accumulative income_disposable sum \n",
    "income_disposable_sum_array=income_disposable_range*weight\n",
    "income_disposable_cumsum=income_disposable_sum_array.cumsum()\n",
    "income_disposable_cumsum=income_disposable_cumsum/sum(income_disposable_sum_array)\n",
    "# step 5: calculate the Gini coefficients\n",
    "weight_diff=weight_cumsum[1:]-weight_cumsum[0:-1]\n",
    "gini_diff=weight_cumsum-income_disposable_cumsum\n",
    "Gini_income_disposable=sum(gini_diff[1:]*weight_diff)  # gini_coeff will be overestimated if gini_diff[1:]\n",
    "\n",
    "fig, ax = plt.subplots(1, 1,figsize=(6, 4))\n",
    "ax.plot(weight_cumsum,weight_cumsum,'k-')\n",
    "ax.plot(weight_cumsum,income_disposable_cumsum,'k--')\n",
    "ax.set_title('The Gini Coeff. of income_disposable in Target Share 40% Scenario')\n",
    "\n",
    "ax.spines['top'].set_visible(False)\n",
    "ax.spines['right'].set_visible(False)\n",
    "ax.spines['bottom'].set_visible(True)\n",
    "ax.spines['left'].set_visible(True)\n",
    "\n",
    "plt.show()\n",
    "#fig.savefig('The Gini Coeff. of income_disposable in target share 7% Scenario.pdf')\n",
    "\n",
    "print('The Gini coefficient for income_disposable is %.5f'%(2*Gini_income_disposable))"
   ]
  },
  {
   "cell_type": "code",
   "execution_count": null,
   "metadata": {},
   "outputs": [],
   "source": []
  }
 ],
 "metadata": {
  "kernelspec": {
   "display_name": "Python 3",
   "language": "python",
   "name": "python3"
  },
  "language_info": {
   "codemirror_mode": {
    "name": "ipython",
    "version": 3
   },
   "file_extension": ".py",
   "mimetype": "text/x-python",
   "name": "python",
   "nbconvert_exporter": "python",
   "pygments_lexer": "ipython3",
   "version": "3.7.3"
  }
 },
 "nbformat": 4,
 "nbformat_minor": 2
}
